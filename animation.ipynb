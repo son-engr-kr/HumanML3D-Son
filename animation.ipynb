{
 "cells": [
  {
   "cell_type": "code",
   "execution_count": 1,
   "metadata": {},
   "outputs": [],
   "source": [
    "import os\n",
    "from os.path import join as pjoin\n",
    "from tqdm import tqdm\n",
    "import numpy as np"
   ]
  },
  {
   "cell_type": "code",
   "execution_count": 2,
   "metadata": {},
   "outputs": [],
   "source": [
    "import matplotlib\n",
    "import matplotlib.pyplot as plt\n",
    "from mpl_toolkits.mplot3d import Axes3D\n",
    "from matplotlib.animation import FuncAnimation, PillowWriter\n",
    "from mpl_toolkits.mplot3d.art3d import Poly3DCollection\n",
    "import mpl_toolkits.mplot3d.axes3d as p3\n",
    "def plot_3d_motion(save_path, kinematic_tree, joints, title, figsize=(10, 10), fps=120, radius=4):\n",
    "#     matplotlib.use('Agg')\n",
    "\n",
    "    title_sp = title.split(' ')\n",
    "    if len(title_sp) > 10:\n",
    "        title = '\\n'.join([' '.join(title_sp[:10]), ' '.join(title_sp[10:])])\n",
    "    def init():\n",
    "        ax.set_xlim3d([-radius / 2, radius / 2])\n",
    "        ax.set_ylim3d([0, radius])\n",
    "        ax.set_zlim3d([0, radius])\n",
    "        # print(title)\n",
    "        fig.suptitle(title, fontsize=20)\n",
    "        ax.grid(b=False)\n",
    "\n",
    "    def plot_xzPlane(minx, maxx, miny, minz, maxz):\n",
    "        ## Plot a plane XZ\n",
    "        verts = [\n",
    "            [minx, miny, minz],\n",
    "            [minx, miny, maxz],\n",
    "            [maxx, miny, maxz],\n",
    "            [maxx, miny, minz]\n",
    "        ]\n",
    "        xz_plane = Poly3DCollection([verts])\n",
    "        xz_plane.set_facecolor((0.5, 0.5, 0.5, 0.5))\n",
    "        ax.add_collection3d(xz_plane)\n",
    "\n",
    "    #         return ax\n",
    "\n",
    "    # (seq_len, joints_num, 3)\n",
    "    data = joints.copy().reshape(len(joints), -1, 3)\n",
    "    fig = plt.figure(figsize=figsize)\n",
    "    # ax = p3.Axes3D(fig)\n",
    "    ax = fig.add_subplot(111, projection='3d')\n",
    "    init()\n",
    "    MINS = data.min(axis=0).min(axis=0)\n",
    "    MAXS = data.max(axis=0).max(axis=0)\n",
    "    colors = ['red', 'blue', 'black', 'red', 'blue',  \n",
    "              'darkblue', 'darkblue', 'darkblue', 'darkblue', 'darkblue',\n",
    "             'darkred', 'darkred','darkred','darkred','darkred']\n",
    "    frame_number = data.shape[0]\n",
    "    #     print(data.shape)\n",
    "\n",
    "    height_offset = MINS[1]\n",
    "    data[:, :, 1] -= height_offset\n",
    "    trajec = data[:, 0, [0, 2]]\n",
    "    \n",
    "    data[..., 0] -= data[:, 0:1, 0]\n",
    "    data[..., 2] -= data[:, 0:1, 2]\n",
    "\n",
    "    #     print(trajec.shape)\n",
    "\n",
    "    def update(index):\n",
    "        #         print(index)\n",
    "        # ax.lines = []\n",
    "        # ax.collections = []\n",
    "        ax.clear()\n",
    "        # ax.set_xlim3d([-radius / 2, radius / 2])\n",
    "        # ax.set_ylim3d([0, radius])\n",
    "        # ax.set_zlim3d([0, radius])\n",
    "        ax.view_init(elev=120, azim=-90)\n",
    "        ax.dist = 7.5\n",
    "        #         ax =\n",
    "        plot_xzPlane(MINS[0]-trajec[index, 0], MAXS[0]-trajec[index, 0], 0, MINS[2]-trajec[index, 1], MAXS[2]-trajec[index, 1])\n",
    "#         ax.scatter(data[index, :22, 0], data[index, :22, 1], data[index, :22, 2], color='black', s=3)\n",
    "        \n",
    "        if index > 1:\n",
    "            ax.plot3D(trajec[:index, 0]-trajec[index, 0], np.zeros_like(trajec[:index, 0]), trajec[:index, 1]-trajec[index, 1], linewidth=1.0,\n",
    "                      color='blue')\n",
    "        #             ax = plot_xzPlane(ax, MINS[0], MAXS[0], 0, MINS[2], MAXS[2])\n",
    "        \n",
    "        \n",
    "        for i, (chain, color) in enumerate(zip(kinematic_tree, colors)):\n",
    "#             print(color)\n",
    "            if i < 5:\n",
    "                linewidth = 4.0\n",
    "            else:\n",
    "                linewidth = 2.0\n",
    "            ax.plot3D(data[index, chain, 0], data[index, chain, 1], data[index, chain, 2], linewidth=linewidth, color=color)\n",
    "        #         print(trajec[:index, 0].shape)\n",
    "\n",
    "        plt.axis('off')\n",
    "        ax.set_xticklabels([])\n",
    "        ax.set_yticklabels([])\n",
    "        ax.set_zticklabels([])\n",
    "\n",
    "\n",
    "    ani = FuncAnimation(fig, update, frames=frame_number, interval=1000/fps, repeat=False)\n",
    "\n",
    "    ani.save(save_path, fps=fps)\n",
    "    plt.close()\n"
   ]
  },
  {
   "cell_type": "code",
   "execution_count": 3,
   "metadata": {},
   "outputs": [],
   "source": [
    "src_dir = './HumanML3D/new_joints/'\n",
    "tgt_ani_dir = \"./HumanML3D/animations/\""
   ]
  },
  {
   "cell_type": "code",
   "execution_count": 10,
   "metadata": {},
   "outputs": [
    {
     "name": "stdout",
     "output_type": "stream",
     "text": [
      "[[[0, 2, 5, 8, 11]], [[0, 1, 4, 7, 10]], [[0, 3, 6, 9, 12, 15]], [[9, 14, 17, 19, 21]], [[9, 13, 16, 18, 20]]]\n"
     ]
    }
   ],
   "source": [
    "# Right leg, Left leg, Spine, Right arm, Left arm\n",
    "kinematic_chain = [[0, 2, 5, 8, 11], [0, 1, 4, 7, 10], [0, 3, 6, 9, 12, 15], [9, 14, 17, 19, 21], [9, 13, 16, 18, 20]]\n",
    "kinematic_chain_sep = [[k] for k in kinematic_chain]\n",
    "print(kinematic_chain_sep)\n",
    "os.makedirs(tgt_ani_dir, exist_ok=True)"
   ]
  },
  {
   "cell_type": "code",
   "execution_count": 13,
   "metadata": {},
   "outputs": [],
   "source": [
    "npy_files = os.listdir(src_dir)\n",
    "npy_files = sorted(npy_files)\n",
    "npy_files = npy_files[:10]"
   ]
  },
  {
   "cell_type": "markdown",
   "metadata": {},
   "source": [
    "This will take a few hours for the whole dataset. Here we show ten animations for an example\n"
   ]
  },
  {
   "cell_type": "markdown",
   "metadata": {},
   "source": [
    "To accelerate the process, you could copy and run this script."
   ]
  },
  {
   "cell_type": "code",
   "execution_count": 14,
   "metadata": {},
   "outputs": [
    {
     "name": "stderr",
     "output_type": "stream",
     "text": [
      "100%|██████████| 10/10 [01:55<00:00, 11.51s/it]\n"
     ]
    }
   ],
   "source": [
    "for npy_file in tqdm(npy_files):\n",
    "    data = np.load(pjoin(src_dir, npy_file))\n",
    "    \n",
    "    txt_src_dir = src_dir.replace('new_joints', 'texts')\n",
    "    txt_file = npy_file.replace('.npy', '.txt')\n",
    "    with open(pjoin(txt_src_dir, txt_file), 'r') as f:\n",
    "        text_data = f.read()\n",
    "    result_text = \"\"\n",
    "    for line in text_data.split('\\n'):\n",
    "        result_text += line.split('#')[0] + '\\n'\n",
    "\n",
    "    save_path = pjoin(tgt_ani_dir, npy_file[:-3] + 'mp4')\n",
    "    # if os.path.exists(save_path):\n",
    "    #     print(f\"Skipping {save_path} because it already exists\")\n",
    "    #     continue\n",
    "#   You may set the title on your own.\n",
    "    plot_3d_motion(save_path, kinematic_chain, data, title=result_text, fps=20, radius=4)\n",
    "    if npy_file == npy_files[0]:\n",
    "        for idx, k in enumerate(kinematic_chain_sep):\n",
    "            save_path = pjoin(tgt_ani_dir, npy_file[:-3] + f'_kc_{idx}.mp4')\n",
    "            plot_3d_motion(save_path, k, data, title=result_text, fps=20, radius=4)\n"
   ]
  },
  {
   "cell_type": "code",
   "execution_count": 41,
   "metadata": {},
   "outputs": [
    {
     "data": {
      "text/plain": [
       "array([[[ 0.00000000e+00,  8.36999297e-01,  0.00000000e+00],\n",
       "        [ 8.05792287e-02,  7.73063481e-01,  6.59070909e-03],\n",
       "        [-3.26472297e-02,  7.32079804e-01,  6.40355051e-04],\n",
       "        ...,\n",
       "        [-2.11191803e-01,  9.37251627e-01,  2.57635474e-01],\n",
       "        [ 2.24863440e-01,  7.79130399e-01,  2.99875438e-01],\n",
       "        [-5.39650917e-02,  7.53495812e-01,  3.77413511e-01]],\n",
       "\n",
       "       [[-2.38920166e-03,  8.36332381e-01,  1.14154967e-03],\n",
       "        [ 7.82898366e-02,  7.72806168e-01,  1.00609064e-02],\n",
       "        [-3.45600881e-02,  7.31264353e-01,  1.43107411e-03],\n",
       "        ...,\n",
       "        [-2.24821076e-01,  9.37355042e-01,  2.46336639e-01],\n",
       "        [ 2.06301197e-01,  7.67926097e-01,  3.00089061e-01],\n",
       "        [-7.41223395e-02,  7.47140527e-01,  3.64410579e-01]],\n",
       "\n",
       "       [[ 3.17509053e-04,  8.37339103e-01,  5.59732318e-03],\n",
       "        [ 8.06139931e-02,  7.74207592e-01,  1.94221213e-02],\n",
       "        [-3.13174762e-02,  7.32118845e-01,  4.08634869e-03],\n",
       "        ...,\n",
       "        [-2.52134740e-01,  9.41310346e-01,  2.21953332e-01],\n",
       "        [ 1.63775489e-01,  7.44347751e-01,  3.05627078e-01],\n",
       "        [-1.21666200e-01,  7.38508582e-01,  3.43125284e-01]],\n",
       "\n",
       "       ...,\n",
       "\n",
       "       [[-4.49210219e-02,  9.02908981e-01, -5.90735264e-02],\n",
       "        [-6.55435771e-03,  8.15230131e-01, -9.73444283e-02],\n",
       "        [-1.18528694e-01,  8.21541667e-01, -5.31038567e-02],\n",
       "        ...,\n",
       "        [-8.10123235e-02,  9.91379321e-01,  2.58035481e-01],\n",
       "        [ 4.02546346e-01,  7.30497181e-01,  1.76497564e-01],\n",
       "        [ 1.45185776e-02,  7.45439291e-01,  3.14785928e-01]],\n",
       "\n",
       "       [[-3.48120071e-02,  9.04146135e-01, -5.59015013e-02],\n",
       "        [ 2.19293311e-03,  8.16568077e-01, -9.57130417e-02],\n",
       "        [-1.09173849e-01,  8.23459089e-01, -5.00484928e-02],\n",
       "        ...,\n",
       "        [-4.74321134e-02,  9.80166078e-01,  2.66724974e-01],\n",
       "        [ 3.96993995e-01,  7.14443147e-01,  1.72584355e-01],\n",
       "        [ 4.66678403e-02,  7.32811749e-01,  3.19585830e-01]],\n",
       "\n",
       "       [[-2.69585513e-02,  9.04519975e-01, -5.32581955e-02],\n",
       "        [ 8.45325738e-03,  8.16744387e-01, -9.40711349e-02],\n",
       "        [-1.02277458e-01,  8.24751496e-01, -4.70615700e-02],\n",
       "        ...,\n",
       "        [-1.83785670e-02,  9.68925774e-01,  2.74724662e-01],\n",
       "        [ 3.99595767e-01,  7.08184302e-01,  1.73017904e-01],\n",
       "        [ 7.92225450e-02,  7.22675979e-01,  3.26379955e-01]]],\n",
       "      dtype=float32)"
      ]
     },
     "execution_count": 41,
     "metadata": {},
     "output_type": "execute_result"
    }
   ],
   "source": [
    "data"
   ]
  },
  {
   "cell_type": "code",
   "execution_count": null,
   "metadata": {},
   "outputs": [],
   "source": []
  }
 ],
 "metadata": {
  "kernelspec": {
   "display_name": ".venv",
   "language": "python",
   "name": "python3"
  },
  "language_info": {
   "codemirror_mode": {
    "name": "ipython",
    "version": 3
   },
   "file_extension": ".py",
   "mimetype": "text/x-python",
   "name": "python",
   "nbconvert_exporter": "python",
   "pygments_lexer": "ipython3",
   "version": "3.11.9"
  }
 },
 "nbformat": 4,
 "nbformat_minor": 4
}
